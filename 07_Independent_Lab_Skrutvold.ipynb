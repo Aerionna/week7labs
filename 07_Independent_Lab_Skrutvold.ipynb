{
 "cells": [
  {
   "cell_type": "markdown",
   "id": "d2375791-a521-44c4-a1f3-65e7e9e51602",
   "metadata": {},
   "source": [
    "## Week 7 Independent Lab: Data Manipulation\n",
    "Author: Aerionna Skrutvold  \n",
    "Course: BGEN632 Grad. Intro to Python  \n",
    "\n",
    "This notebook contains code for assessing the condition of the healthcare system in California. The program primarily makes use of pandas DataFrames and the CaliforniaHospitalData.csv plus CaliforniaHospital_Personnel.yxy files contained within the data folder."
   ]
  },
  {
   "cell_type": "markdown",
   "id": "71188e12-dafd-401b-82d0-e12778b41b49",
   "metadata": {},
   "source": [
    "### Import Modules"
   ]
  },
  {
   "cell_type": "code",
   "execution_count": 1,
   "id": "3e3cbf65-7e59-4bff-840b-8eef6966e2ed",
   "metadata": {},
   "outputs": [],
   "source": [
    "import os\n",
    "import pandas as pd\n",
    "import numpy as np"
   ]
  },
  {
   "cell_type": "markdown",
   "id": "d0b4e9c9-bd0c-4b8d-9303-66ca35846933",
   "metadata": {},
   "source": [
    "### Set Working Directory"
   ]
  },
  {
   "cell_type": "code",
   "execution_count": 2,
   "id": "37c049bc-53b7-464b-9bbf-1e8770f5388b",
   "metadata": {},
   "outputs": [],
   "source": [
    "os.chdir(\"C:/Users/gcassist/Desktop/MSBA/Spring 25/Python/week7labs/data\")"
   ]
  },
  {
   "cell_type": "markdown",
   "id": "e3ea9554-499c-4698-98fd-713133edc211",
   "metadata": {},
   "source": [
    "### Access Data"
   ]
  },
  {
   "cell_type": "code",
   "execution_count": 4,
   "id": "aaddcab5-63c1-44cd-bfa3-f433a8b0e6c6",
   "metadata": {},
   "outputs": [],
   "source": [
    "CA_Hosp = pd.read_csv(\"CaliforniaHospitalData.csv\") #open California Hospital data "
   ]
  },
  {
   "cell_type": "code",
   "execution_count": 41,
   "id": "0bd46cf8-ae6b-4da7-91fe-fbcc91ffe1fa",
   "metadata": {},
   "outputs": [],
   "source": [
    "CA_Personnel = pd.read_csv(\"CaliforniaHospitalData_Personnel.txt\", sep=\"\\t\", engine=\"python\", header=0) #open California Hospital Personnel data "
   ]
  },
  {
   "cell_type": "markdown",
   "id": "fdbcd47c-6b79-466f-a940-6ffd8d512791",
   "metadata": {},
   "source": [
    "## Inspect the Data "
   ]
  },
  {
   "cell_type": "code",
   "execution_count": 42,
   "id": "f42f08ac-0d96-4242-92f4-633bdb239ef0",
   "metadata": {},
   "outputs": [
    {
     "name": "stdout",
     "output_type": "stream",
     "text": [
      "<class 'pandas.core.frame.DataFrame'>\n",
      "RangeIndex: 61 entries, 0 to 60\n",
      "Data columns (total 14 columns):\n",
      " #   Column       Non-Null Count  Dtype  \n",
      "---  ------       --------------  -----  \n",
      " 0   HospitalID   61 non-null     object \n",
      " 1   Name         61 non-null     object \n",
      " 2   Zip          61 non-null     object \n",
      " 3   Website      61 non-null     object \n",
      " 4   TypeControl  61 non-null     object \n",
      " 5   Teaching     61 non-null     object \n",
      " 6   DonorType    61 non-null     object \n",
      " 7   NoFTE        61 non-null     float64\n",
      " 8   NetPatRev    61 non-null     float64\n",
      " 9   InOperExp    61 non-null     float64\n",
      " 10  OutOperExp   61 non-null     float64\n",
      " 11  OperRev      61 non-null     int64  \n",
      " 12  OperInc      61 non-null     int64  \n",
      " 13  AvlBeds      61 non-null     int64  \n",
      "dtypes: float64(4), int64(3), object(7)\n",
      "memory usage: 6.8+ KB\n"
     ]
    }
   ],
   "source": [
    "CA_Hosp.info()"
   ]
  },
  {
   "cell_type": "code",
   "execution_count": 43,
   "id": "e8b9fb4c-2b5b-4a83-a49f-9d0f88790e62",
   "metadata": {},
   "outputs": [
    {
     "name": "stdout",
     "output_type": "stream",
     "text": [
      "<class 'pandas.core.frame.DataFrame'>\n",
      "RangeIndex: 64 entries, 0 to 63\n",
      "Data columns (total 12 columns):\n",
      " #   Column         Non-Null Count  Dtype \n",
      "---  ------         --------------  ----- \n",
      " 0   HospitalID     64 non-null     int64 \n",
      " 1   Work_ID        64 non-null     int64 \n",
      " 2   LastName       64 non-null     object\n",
      " 3   FirstName      64 non-null     object\n",
      " 4   Gender         64 non-null     object\n",
      " 5   PositionID     64 non-null     int64 \n",
      " 6   PositionTitle  64 non-null     object\n",
      " 7   Compensation   64 non-null     int64 \n",
      " 8   MaxTerm        64 non-null     int64 \n",
      " 9   StartDate      64 non-null     object\n",
      " 10  Phone          64 non-null     object\n",
      " 11  Email          64 non-null     object\n",
      "dtypes: int64(5), object(7)\n",
      "memory usage: 6.1+ KB\n"
     ]
    }
   ],
   "source": [
    "CA_Personnel.info()"
   ]
  },
  {
   "cell_type": "markdown",
   "id": "fb60bad9-595c-487a-892f-04ab89ab9a46",
   "metadata": {},
   "source": [
    "### Merging the Data "
   ]
  },
  {
   "cell_type": "code",
   "execution_count": 45,
   "id": "618acb9f-fcce-49b9-9dce-281c2be4a5a4",
   "metadata": {},
   "outputs": [],
   "source": [
    "CA_Hosp['HospitalID'] = CA_Hosp['HospitalID'].astype(str) # Change both column types to strings\n",
    "CA_Personnel['HospitalID'] = CA_Personnel['HospitalID'].astype(str)"
   ]
  },
  {
   "cell_type": "code",
   "execution_count": 46,
   "id": "27c9dc44-4a8c-4406-b459-23b225fd7f2e",
   "metadata": {},
   "outputs": [],
   "source": [
    "merged_data = CA_Personnel.merge(CA_Hosp, on='HospitalID', how='inner') # Merge the data "
   ]
  },
  {
   "cell_type": "code",
   "execution_count": 47,
   "id": "0c2294a5-8fd0-4b24-aa31-b34d82294a3d",
   "metadata": {},
   "outputs": [
    {
     "name": "stdout",
     "output_type": "stream",
     "text": [
      "<class 'pandas.core.frame.DataFrame'>\n",
      "RangeIndex: 61 entries, 0 to 60\n",
      "Data columns (total 25 columns):\n",
      " #   Column         Non-Null Count  Dtype  \n",
      "---  ------         --------------  -----  \n",
      " 0   HospitalID     61 non-null     object \n",
      " 1   Work_ID        61 non-null     int64  \n",
      " 2   LastName       61 non-null     object \n",
      " 3   FirstName      61 non-null     object \n",
      " 4   Gender         61 non-null     object \n",
      " 5   PositionID     61 non-null     int64  \n",
      " 6   PositionTitle  61 non-null     object \n",
      " 7   Compensation   61 non-null     int64  \n",
      " 8   MaxTerm        61 non-null     int64  \n",
      " 9   StartDate      61 non-null     object \n",
      " 10  Phone          61 non-null     object \n",
      " 11  Email          61 non-null     object \n",
      " 12  Name           61 non-null     object \n",
      " 13  Zip            61 non-null     object \n",
      " 14  Website        61 non-null     object \n",
      " 15  TypeControl    61 non-null     object \n",
      " 16  Teaching       61 non-null     object \n",
      " 17  DonorType      61 non-null     object \n",
      " 18  NoFTE          61 non-null     float64\n",
      " 19  NetPatRev      61 non-null     float64\n",
      " 20  InOperExp      61 non-null     float64\n",
      " 21  OutOperExp     61 non-null     float64\n",
      " 22  OperRev        61 non-null     int64  \n",
      " 23  OperInc        61 non-null     int64  \n",
      " 24  AvlBeds        61 non-null     int64  \n",
      "dtypes: float64(4), int64(7), object(14)\n",
      "memory usage: 12.0+ KB\n"
     ]
    }
   ],
   "source": [
    "merged_data.info()"
   ]
  },
  {
   "cell_type": "markdown",
   "id": "6a277915-96fd-48dd-bad6-002974f99bee",
   "metadata": {},
   "source": [
    "### Remove Columns"
   ]
  },
  {
   "cell_type": "code",
   "execution_count": 48,
   "id": "f9410169-0aea-41da-aee7-b1b1efd70c47",
   "metadata": {},
   "outputs": [
    {
     "data": {
      "text/html": [
       "<div>\n",
       "<style scoped>\n",
       "    .dataframe tbody tr th:only-of-type {\n",
       "        vertical-align: middle;\n",
       "    }\n",
       "\n",
       "    .dataframe tbody tr th {\n",
       "        vertical-align: top;\n",
       "    }\n",
       "\n",
       "    .dataframe thead th {\n",
       "        text-align: right;\n",
       "    }\n",
       "</style>\n",
       "<table border=\"1\" class=\"dataframe\">\n",
       "  <thead>\n",
       "    <tr style=\"text-align: right;\">\n",
       "      <th></th>\n",
       "      <th>HospitalID</th>\n",
       "      <th>LastName</th>\n",
       "      <th>FirstName</th>\n",
       "      <th>Gender</th>\n",
       "      <th>PositionTitle</th>\n",
       "      <th>Compensation</th>\n",
       "      <th>MaxTerm</th>\n",
       "      <th>StartDate</th>\n",
       "      <th>Phone</th>\n",
       "      <th>Email</th>\n",
       "      <th>...</th>\n",
       "      <th>TypeControl</th>\n",
       "      <th>Teaching</th>\n",
       "      <th>DonorType</th>\n",
       "      <th>NoFTE</th>\n",
       "      <th>NetPatRev</th>\n",
       "      <th>InOperExp</th>\n",
       "      <th>OutOperExp</th>\n",
       "      <th>OperRev</th>\n",
       "      <th>OperInc</th>\n",
       "      <th>AvlBeds</th>\n",
       "    </tr>\n",
       "  </thead>\n",
       "  <tbody>\n",
       "    <tr>\n",
       "      <th>0</th>\n",
       "      <td>12145</td>\n",
       "      <td>Rodriguez</td>\n",
       "      <td>Jose</td>\n",
       "      <td>M</td>\n",
       "      <td>Regional Representative</td>\n",
       "      <td>46978</td>\n",
       "      <td>4</td>\n",
       "      <td>1/1/2009</td>\n",
       "      <td>405-744-2238</td>\n",
       "      <td>jose.rodriguez@edihealth.com</td>\n",
       "      <td>...</td>\n",
       "      <td>Non Profit</td>\n",
       "      <td>Small/Rural</td>\n",
       "      <td>Charity</td>\n",
       "      <td>345.0</td>\n",
       "      <td>136156.69130</td>\n",
       "      <td>3.344754e+07</td>\n",
       "      <td>2.034860e+07</td>\n",
       "      <td>53351748</td>\n",
       "      <td>-444391</td>\n",
       "      <td>99</td>\n",
       "    </tr>\n",
       "    <tr>\n",
       "      <th>1</th>\n",
       "      <td>45771</td>\n",
       "      <td>Rodriguez</td>\n",
       "      <td>Jose</td>\n",
       "      <td>M</td>\n",
       "      <td>Regional Representative</td>\n",
       "      <td>46978</td>\n",
       "      <td>4</td>\n",
       "      <td>1/1/2011</td>\n",
       "      <td>405-744-2238</td>\n",
       "      <td>jose.rodriguez@edihealth.com</td>\n",
       "      <td>...</td>\n",
       "      <td>District</td>\n",
       "      <td>Small/Rural</td>\n",
       "      <td>Charity</td>\n",
       "      <td>219.0</td>\n",
       "      <td>52983.85792</td>\n",
       "      <td>8.074273e+06</td>\n",
       "      <td>1.299607e+07</td>\n",
       "      <td>19484351</td>\n",
       "      <td>-1585993</td>\n",
       "      <td>76</td>\n",
       "    </tr>\n",
       "    <tr>\n",
       "      <th>2</th>\n",
       "      <td>43353</td>\n",
       "      <td>Rodriguez</td>\n",
       "      <td>Jose</td>\n",
       "      <td>M</td>\n",
       "      <td>Safety Inspection Member</td>\n",
       "      <td>23987</td>\n",
       "      <td>2</td>\n",
       "      <td>1/1/2011</td>\n",
       "      <td>405-744-2238</td>\n",
       "      <td>jose.rodriguez@edihealth.com</td>\n",
       "      <td>...</td>\n",
       "      <td>Non Profit</td>\n",
       "      <td>Small/Rural</td>\n",
       "      <td>Charity</td>\n",
       "      <td>55.0</td>\n",
       "      <td>14172.24044</td>\n",
       "      <td>1.436471e+06</td>\n",
       "      <td>3.989894e+06</td>\n",
       "      <td>5235317</td>\n",
       "      <td>-191048</td>\n",
       "      <td>12</td>\n",
       "    </tr>\n",
       "    <tr>\n",
       "      <th>3</th>\n",
       "      <td>17718</td>\n",
       "      <td>Charles</td>\n",
       "      <td>Kenneth</td>\n",
       "      <td>M</td>\n",
       "      <td>Regional Representative</td>\n",
       "      <td>46978</td>\n",
       "      <td>4</td>\n",
       "      <td>1/1/2009</td>\n",
       "      <td>405-744-3412</td>\n",
       "      <td>kenneth.charles@edihealth.com</td>\n",
       "      <td>...</td>\n",
       "      <td>Non Profit</td>\n",
       "      <td>Small/Rural</td>\n",
       "      <td>Charity</td>\n",
       "      <td>215.5</td>\n",
       "      <td>123480.27050</td>\n",
       "      <td>2.200350e+07</td>\n",
       "      <td>2.241005e+07</td>\n",
       "      <td>45769108</td>\n",
       "      <td>1355554</td>\n",
       "      <td>60</td>\n",
       "    </tr>\n",
       "    <tr>\n",
       "      <th>4</th>\n",
       "      <td>17736</td>\n",
       "      <td>Charles</td>\n",
       "      <td>Kenneth</td>\n",
       "      <td>M</td>\n",
       "      <td>Acting Director</td>\n",
       "      <td>248904</td>\n",
       "      <td>8</td>\n",
       "      <td>1/1/2006</td>\n",
       "      <td>405-744-3412</td>\n",
       "      <td>kenneth.charles@edihealth.com</td>\n",
       "      <td>...</td>\n",
       "      <td>Non Profit</td>\n",
       "      <td>Small/Rural</td>\n",
       "      <td>Charity</td>\n",
       "      <td>524.5</td>\n",
       "      <td>295579.23500</td>\n",
       "      <td>5.669283e+07</td>\n",
       "      <td>5.026417e+07</td>\n",
       "      <td>109748000</td>\n",
       "      <td>2791000</td>\n",
       "      <td>121</td>\n",
       "    </tr>\n",
       "    <tr>\n",
       "      <th>...</th>\n",
       "      <td>...</td>\n",
       "      <td>...</td>\n",
       "      <td>...</td>\n",
       "      <td>...</td>\n",
       "      <td>...</td>\n",
       "      <td>...</td>\n",
       "      <td>...</td>\n",
       "      <td>...</td>\n",
       "      <td>...</td>\n",
       "      <td>...</td>\n",
       "      <td>...</td>\n",
       "      <td>...</td>\n",
       "      <td>...</td>\n",
       "      <td>...</td>\n",
       "      <td>...</td>\n",
       "      <td>...</td>\n",
       "      <td>...</td>\n",
       "      <td>...</td>\n",
       "      <td>...</td>\n",
       "      <td>...</td>\n",
       "      <td>...</td>\n",
       "    </tr>\n",
       "    <tr>\n",
       "      <th>56</th>\n",
       "      <td>33283</td>\n",
       "      <td>Frank</td>\n",
       "      <td>Vernon</td>\n",
       "      <td>M</td>\n",
       "      <td>Regional Representative</td>\n",
       "      <td>46978</td>\n",
       "      <td>4</td>\n",
       "      <td>1/1/2012</td>\n",
       "      <td>801-687-2845</td>\n",
       "      <td>vernon.frank@ihc.com</td>\n",
       "      <td>...</td>\n",
       "      <td>Non Profit</td>\n",
       "      <td>Small/Rural</td>\n",
       "      <td>Charity</td>\n",
       "      <td>353.0</td>\n",
       "      <td>173227.48630</td>\n",
       "      <td>2.864761e+07</td>\n",
       "      <td>3.962144e+07</td>\n",
       "      <td>64464737</td>\n",
       "      <td>-3804313</td>\n",
       "      <td>25</td>\n",
       "    </tr>\n",
       "    <tr>\n",
       "      <th>57</th>\n",
       "      <td>33242</td>\n",
       "      <td>Frank</td>\n",
       "      <td>Vernon</td>\n",
       "      <td>M</td>\n",
       "      <td>Safety Inspection Member</td>\n",
       "      <td>23987</td>\n",
       "      <td>2</td>\n",
       "      <td>1/1/2011</td>\n",
       "      <td>801-687-2845</td>\n",
       "      <td>vernon.frank@ihc.com</td>\n",
       "      <td>...</td>\n",
       "      <td>Non Profit</td>\n",
       "      <td>Small/Rural</td>\n",
       "      <td>Charity</td>\n",
       "      <td>318.0</td>\n",
       "      <td>161745.22400</td>\n",
       "      <td>3.064671e+07</td>\n",
       "      <td>3.027761e+07</td>\n",
       "      <td>59669536</td>\n",
       "      <td>-1254783</td>\n",
       "      <td>42</td>\n",
       "    </tr>\n",
       "    <tr>\n",
       "      <th>58</th>\n",
       "      <td>46342</td>\n",
       "      <td>Tanner</td>\n",
       "      <td>Patricia</td>\n",
       "      <td>F</td>\n",
       "      <td>Acting Director</td>\n",
       "      <td>248904</td>\n",
       "      <td>8</td>\n",
       "      <td>1/1/2011</td>\n",
       "      <td>801-687-7877</td>\n",
       "      <td>patricia.tanner@prohealth.net</td>\n",
       "      <td>...</td>\n",
       "      <td>District</td>\n",
       "      <td>Small/Rural</td>\n",
       "      <td>Charity</td>\n",
       "      <td>160.0</td>\n",
       "      <td>65792.42623</td>\n",
       "      <td>1.534131e+07</td>\n",
       "      <td>7.916540e+06</td>\n",
       "      <td>24164520</td>\n",
       "      <td>906670</td>\n",
       "      <td>131</td>\n",
       "    </tr>\n",
       "    <tr>\n",
       "      <th>59</th>\n",
       "      <td>43437</td>\n",
       "      <td>Tanner</td>\n",
       "      <td>Patricia</td>\n",
       "      <td>F</td>\n",
       "      <td>Regional Representative</td>\n",
       "      <td>46978</td>\n",
       "      <td>4</td>\n",
       "      <td>1/1/2010</td>\n",
       "      <td>801-687-7877</td>\n",
       "      <td>patricia.tanner@prohealth.net</td>\n",
       "      <td>...</td>\n",
       "      <td>District</td>\n",
       "      <td>Small/Rural</td>\n",
       "      <td>Charity</td>\n",
       "      <td>121.0</td>\n",
       "      <td>17566.92896</td>\n",
       "      <td>2.890228e+06</td>\n",
       "      <td>4.578888e+06</td>\n",
       "      <td>6677960</td>\n",
       "      <td>-791156</td>\n",
       "      <td>37</td>\n",
       "    </tr>\n",
       "    <tr>\n",
       "      <th>60</th>\n",
       "      <td>29823</td>\n",
       "      <td>Tanner</td>\n",
       "      <td>Patricia</td>\n",
       "      <td>F</td>\n",
       "      <td>Acting Director</td>\n",
       "      <td>248904</td>\n",
       "      <td>8</td>\n",
       "      <td>1/1/2009</td>\n",
       "      <td>801-687-7877</td>\n",
       "      <td>patricia.tanner@prohealth.net</td>\n",
       "      <td>...</td>\n",
       "      <td>Non Profit</td>\n",
       "      <td>Small/Rural</td>\n",
       "      <td>Charity</td>\n",
       "      <td>168.0</td>\n",
       "      <td>51726.49180</td>\n",
       "      <td>9.022366e+06</td>\n",
       "      <td>1.040251e+07</td>\n",
       "      <td>19445901</td>\n",
       "      <td>21025</td>\n",
       "      <td>48</td>\n",
       "    </tr>\n",
       "  </tbody>\n",
       "</table>\n",
       "<p>61 rows × 22 columns</p>\n",
       "</div>"
      ],
      "text/plain": [
       "   HospitalID   LastName FirstName Gender             PositionTitle  \\\n",
       "0       12145  Rodriguez      Jose      M   Regional Representative   \n",
       "1       45771  Rodriguez      Jose      M   Regional Representative   \n",
       "2       43353  Rodriguez      Jose      M  Safety Inspection Member   \n",
       "3       17718    Charles   Kenneth      M   Regional Representative   \n",
       "4       17736    Charles   Kenneth      M           Acting Director   \n",
       "..        ...        ...       ...    ...                       ...   \n",
       "56      33283      Frank    Vernon      M   Regional Representative   \n",
       "57      33242      Frank    Vernon      M  Safety Inspection Member   \n",
       "58      46342     Tanner  Patricia      F           Acting Director   \n",
       "59      43437     Tanner  Patricia      F   Regional Representative   \n",
       "60      29823     Tanner  Patricia      F           Acting Director   \n",
       "\n",
       "    Compensation  MaxTerm StartDate         Phone  \\\n",
       "0          46978        4  1/1/2009  405-744-2238   \n",
       "1          46978        4  1/1/2011  405-744-2238   \n",
       "2          23987        2  1/1/2011  405-744-2238   \n",
       "3          46978        4  1/1/2009  405-744-3412   \n",
       "4         248904        8  1/1/2006  405-744-3412   \n",
       "..           ...      ...       ...           ...   \n",
       "56         46978        4  1/1/2012  801-687-2845   \n",
       "57         23987        2  1/1/2011  801-687-2845   \n",
       "58        248904        8  1/1/2011  801-687-7877   \n",
       "59         46978        4  1/1/2010  801-687-7877   \n",
       "60        248904        8  1/1/2009  801-687-7877   \n",
       "\n",
       "                            Email  ... TypeControl     Teaching DonorType  \\\n",
       "0    jose.rodriguez@edihealth.com  ...  Non Profit  Small/Rural   Charity   \n",
       "1    jose.rodriguez@edihealth.com  ...    District  Small/Rural   Charity   \n",
       "2    jose.rodriguez@edihealth.com  ...  Non Profit  Small/Rural   Charity   \n",
       "3   kenneth.charles@edihealth.com  ...  Non Profit  Small/Rural   Charity   \n",
       "4   kenneth.charles@edihealth.com  ...  Non Profit  Small/Rural   Charity   \n",
       "..                            ...  ...         ...          ...       ...   \n",
       "56           vernon.frank@ihc.com  ...  Non Profit  Small/Rural   Charity   \n",
       "57           vernon.frank@ihc.com  ...  Non Profit  Small/Rural   Charity   \n",
       "58  patricia.tanner@prohealth.net  ...    District  Small/Rural   Charity   \n",
       "59  patricia.tanner@prohealth.net  ...    District  Small/Rural   Charity   \n",
       "60  patricia.tanner@prohealth.net  ...  Non Profit  Small/Rural   Charity   \n",
       "\n",
       "    NoFTE     NetPatRev     InOperExp    OutOperExp    OperRev  OperInc  \\\n",
       "0   345.0  136156.69130  3.344754e+07  2.034860e+07   53351748  -444391   \n",
       "1   219.0   52983.85792  8.074273e+06  1.299607e+07   19484351 -1585993   \n",
       "2    55.0   14172.24044  1.436471e+06  3.989894e+06    5235317  -191048   \n",
       "3   215.5  123480.27050  2.200350e+07  2.241005e+07   45769108  1355554   \n",
       "4   524.5  295579.23500  5.669283e+07  5.026417e+07  109748000  2791000   \n",
       "..    ...           ...           ...           ...        ...      ...   \n",
       "56  353.0  173227.48630  2.864761e+07  3.962144e+07   64464737 -3804313   \n",
       "57  318.0  161745.22400  3.064671e+07  3.027761e+07   59669536 -1254783   \n",
       "58  160.0   65792.42623  1.534131e+07  7.916540e+06   24164520   906670   \n",
       "59  121.0   17566.92896  2.890228e+06  4.578888e+06    6677960  -791156   \n",
       "60  168.0   51726.49180  9.022366e+06  1.040251e+07   19445901    21025   \n",
       "\n",
       "    AvlBeds  \n",
       "0        99  \n",
       "1        76  \n",
       "2        12  \n",
       "3        60  \n",
       "4       121  \n",
       "..      ...  \n",
       "56       25  \n",
       "57       42  \n",
       "58      131  \n",
       "59       37  \n",
       "60       48  \n",
       "\n",
       "[61 rows x 22 columns]"
      ]
     },
     "execution_count": 48,
     "metadata": {},
     "output_type": "execute_result"
    }
   ],
   "source": [
    "merged_data.drop(merged_data.columns[[1,5,14]], axis = 1) # dropping `Work_ID` `PositionID` `Website`"
   ]
  },
  {
   "cell_type": "markdown",
   "id": "b765dcc8-f634-44a0-b1b3-736044ece68b",
   "metadata": {},
   "source": [
    "### Exporting the Data"
   ]
  },
  {
   "cell_type": "code",
   "execution_count": 51,
   "id": "b50970ec-623a-459e-832e-7dac3a9daf38",
   "metadata": {},
   "outputs": [],
   "source": [
    "hospital_data_new = merged_data[((merged_data.Teaching == 'Small/Rural') & (merged_data.AvlBeds >= 15)) != (merged_data.OperRev >= 0)] # Select only those hospitals that are *Small/Rural* and have 15 or more available beds. Exclude hospitals with a negative operating income."
   ]
  },
  {
   "cell_type": "code",
   "execution_count": 53,
   "id": "e993929b-e026-41c2-b091-e10803e77bbd",
   "metadata": {},
   "outputs": [],
   "source": [
    "hospital_data_new.to_csv(\"C:/Users/gcassist/Desktop/MSBA/Spring 25/Python/week7labs/data/hospital_data_new.txt\", sep='\\t') #Export your data as tab-delimited and name the file `hospital_data_new.txt`. "
   ]
  },
  {
   "cell_type": "markdown",
   "id": "774c78d9-1b76-412e-bc7d-f1aee80d23fa",
   "metadata": {},
   "source": [
    "### Renaming Columns "
   ]
  },
  {
   "cell_type": "code",
   "execution_count": 61,
   "id": "15331e8a-cafd-4114-886e-5ce4908a8fbb",
   "metadata": {},
   "outputs": [],
   "source": [
    "hospital_data_mine = pd.read_csv(\"hospital_data_new.txt\", sep=\"\\t\", index_col=0) # Access my new hospital data"
   ]
  },
  {
   "cell_type": "code",
   "execution_count": 62,
   "id": "1d3d6fa9-ee5e-470c-9c68-a3f4fcb997eb",
   "metadata": {},
   "outputs": [
    {
     "name": "stdout",
     "output_type": "stream",
     "text": [
      "<class 'pandas.core.frame.DataFrame'>\n",
      "Index: 18 entries, 2 to 53\n",
      "Data columns (total 25 columns):\n",
      " #   Column         Non-Null Count  Dtype  \n",
      "---  ------         --------------  -----  \n",
      " 0   HospitalID     18 non-null     int64  \n",
      " 1   Work_ID        18 non-null     int64  \n",
      " 2   LastName       18 non-null     object \n",
      " 3   FirstName      18 non-null     object \n",
      " 4   Gender         18 non-null     object \n",
      " 5   PositionID     18 non-null     int64  \n",
      " 6   PositionTitle  18 non-null     object \n",
      " 7   Compensation   18 non-null     int64  \n",
      " 8   MaxTerm        18 non-null     int64  \n",
      " 9   StartDate      18 non-null     object \n",
      " 10  Phone          18 non-null     object \n",
      " 11  Email          18 non-null     object \n",
      " 12  Name           18 non-null     object \n",
      " 13  Zip            18 non-null     object \n",
      " 14  Website        18 non-null     object \n",
      " 15  TypeControl    18 non-null     object \n",
      " 16  Teaching       18 non-null     object \n",
      " 17  DonorType      18 non-null     object \n",
      " 18  NoFTE          18 non-null     float64\n",
      " 19  NetPatRev      18 non-null     float64\n",
      " 20  InOperExp      18 non-null     float64\n",
      " 21  OutOperExp     18 non-null     float64\n",
      " 22  OperRev        18 non-null     int64  \n",
      " 23  OperInc        18 non-null     int64  \n",
      " 24  AvlBeds        18 non-null     int64  \n",
      "dtypes: float64(4), int64(8), object(13)\n",
      "memory usage: 3.7+ KB\n"
     ]
    }
   ],
   "source": [
    "hospital_data_mine.info() # Check out the data"
   ]
  },
  {
   "cell_type": "code",
   "execution_count": 68,
   "id": "26a506fa-b70a-4a0e-978a-ad3cd85a68d7",
   "metadata": {},
   "outputs": [],
   "source": [
    "hospital_data_mine.rename(columns = {'NoFTE': 'FullTimeCount'}, inplace=True) # Rename columns in the new DataFrame.\n",
    "hospital_data_mine.rename(columns = {'NetPatRev':'NetPatientRevenue'}, inplace=True)\n",
    "hospital_data_mine.rename(columns = {'InOperExp':'InpatientOperExp'}, inplace=True)\n",
    "hospital_data_mine.rename(columns = {'OutOperExp':'OutpatientOperExp'}, inplace=True)\n",
    "hospital_data_mine.rename(columns = {'OperRev':'Operating_Revenue'}, inplace=True)\n",
    "hospital_data_mine.rename(columns = {'OperInc':'Operating_Income'}, inplace=True)"
   ]
  },
  {
   "cell_type": "code",
   "execution_count": 69,
   "id": "e3f1b4ac-f769-4a73-8e3c-90de83ab7704",
   "metadata": {},
   "outputs": [
    {
     "data": {
      "text/plain": [
       "Index(['HospitalID', 'Work_ID', 'LastName', 'FirstName', 'Gender',\n",
       "       'PositionID', 'PositionTitle', 'Compensation', 'MaxTerm', 'StartDate',\n",
       "       'Phone', 'Email', 'Name', 'Zip', 'Website', 'TypeControl', 'Teaching',\n",
       "       'DonorType', 'FullTimeCount', 'NetPatientRevenue', 'InpatientOperExp',\n",
       "       'OutpatientOperExp', 'Operating_Revenue', 'Operating_Income',\n",
       "       'AvlBeds'],\n",
       "      dtype='object')"
      ]
     },
     "execution_count": 69,
     "metadata": {},
     "output_type": "execute_result"
    }
   ],
   "source": [
    "hospital_data_mine.columns"
   ]
  },
  {
   "cell_type": "markdown",
   "id": "d5b3ea19-ce8a-4683-9dd1-36b055ca3c5e",
   "metadata": {},
   "source": [
    "### Inserting Records"
   ]
  },
  {
   "cell_type": "code",
   "execution_count": 71,
   "id": "5f944c8a-b529-4369-a863-68b0fd1b6e51",
   "metadata": {},
   "outputs": [
    {
     "data": {
      "text/html": [
       "<div>\n",
       "<style scoped>\n",
       "    .dataframe tbody tr th:only-of-type {\n",
       "        vertical-align: middle;\n",
       "    }\n",
       "\n",
       "    .dataframe tbody tr th {\n",
       "        vertical-align: top;\n",
       "    }\n",
       "\n",
       "    .dataframe thead th {\n",
       "        text-align: right;\n",
       "    }\n",
       "</style>\n",
       "<table border=\"1\" class=\"dataframe\">\n",
       "  <thead>\n",
       "    <tr style=\"text-align: right;\">\n",
       "      <th></th>\n",
       "      <th>HospitalID</th>\n",
       "      <th>Work_ID</th>\n",
       "      <th>LastName</th>\n",
       "      <th>FirstName</th>\n",
       "      <th>Gender</th>\n",
       "      <th>PositionID</th>\n",
       "      <th>PositionTitle</th>\n",
       "      <th>Compensation</th>\n",
       "      <th>MaxTerm</th>\n",
       "      <th>StartDate</th>\n",
       "      <th>...</th>\n",
       "      <th>TypeControl</th>\n",
       "      <th>Teaching</th>\n",
       "      <th>DonorType</th>\n",
       "      <th>FullTimeCount</th>\n",
       "      <th>NetPatientRevenue</th>\n",
       "      <th>InpatientOperExp</th>\n",
       "      <th>OutpatientOperExp</th>\n",
       "      <th>Operating_Revenue</th>\n",
       "      <th>Operating_Income</th>\n",
       "      <th>AvlBeds</th>\n",
       "    </tr>\n",
       "  </thead>\n",
       "  <tbody>\n",
       "    <tr>\n",
       "      <th>2</th>\n",
       "      <td>43353</td>\n",
       "      <td>756481</td>\n",
       "      <td>Rodriguez</td>\n",
       "      <td>Jose</td>\n",
       "      <td>M</td>\n",
       "      <td>4</td>\n",
       "      <td>Safety Inspection Member</td>\n",
       "      <td>23987</td>\n",
       "      <td>2</td>\n",
       "      <td>1/1/2011</td>\n",
       "      <td>...</td>\n",
       "      <td>Non Profit</td>\n",
       "      <td>Small/Rural</td>\n",
       "      <td>Charity</td>\n",
       "      <td>55.0</td>\n",
       "      <td>1.417224e+04</td>\n",
       "      <td>1.436471e+06</td>\n",
       "      <td>3.989894e+06</td>\n",
       "      <td>5235317</td>\n",
       "      <td>-191048</td>\n",
       "      <td>12</td>\n",
       "    </tr>\n",
       "    <tr>\n",
       "      <th>8</th>\n",
       "      <td>35512</td>\n",
       "      <td>625519</td>\n",
       "      <td>Brown</td>\n",
       "      <td>Marietta</td>\n",
       "      <td>F</td>\n",
       "      <td>1</td>\n",
       "      <td>Regional Representative</td>\n",
       "      <td>46978</td>\n",
       "      <td>4</td>\n",
       "      <td>1/1/2009</td>\n",
       "      <td>...</td>\n",
       "      <td>Non Profit</td>\n",
       "      <td>Teaching</td>\n",
       "      <td>Alumni</td>\n",
       "      <td>3500.0</td>\n",
       "      <td>1.710382e+06</td>\n",
       "      <td>4.149948e+08</td>\n",
       "      <td>2.079907e+08</td>\n",
       "      <td>643041802</td>\n",
       "      <td>20056379</td>\n",
       "      <td>606</td>\n",
       "    </tr>\n",
       "    <tr>\n",
       "      <th>11</th>\n",
       "      <td>22460</td>\n",
       "      <td>380668</td>\n",
       "      <td>Smith</td>\n",
       "      <td>Mary</td>\n",
       "      <td>F</td>\n",
       "      <td>4</td>\n",
       "      <td>Safety Inspection Member</td>\n",
       "      <td>23987</td>\n",
       "      <td>2</td>\n",
       "      <td>1/1/2012</td>\n",
       "      <td>...</td>\n",
       "      <td>Non Profit</td>\n",
       "      <td>Teaching</td>\n",
       "      <td>Alumni</td>\n",
       "      <td>6392.0</td>\n",
       "      <td>4.333934e+06</td>\n",
       "      <td>9.289621e+08</td>\n",
       "      <td>6.621559e+08</td>\n",
       "      <td>1650391999</td>\n",
       "      <td>59273999</td>\n",
       "      <td>445</td>\n",
       "    </tr>\n",
       "    <tr>\n",
       "      <th>15</th>\n",
       "      <td>31032</td>\n",
       "      <td>310431</td>\n",
       "      <td>Dong</td>\n",
       "      <td>HongWei</td>\n",
       "      <td>F</td>\n",
       "      <td>4</td>\n",
       "      <td>Safety Inspection Member</td>\n",
       "      <td>23987</td>\n",
       "      <td>2</td>\n",
       "      <td>1/1/2012</td>\n",
       "      <td>...</td>\n",
       "      <td>Non Profit</td>\n",
       "      <td>Teaching</td>\n",
       "      <td>Alumni</td>\n",
       "      <td>5218.0</td>\n",
       "      <td>1.187022e+06</td>\n",
       "      <td>2.912481e+08</td>\n",
       "      <td>1.093286e+08</td>\n",
       "      <td>439084836</td>\n",
       "      <td>38508125</td>\n",
       "      <td>462</td>\n",
       "    </tr>\n",
       "    <tr>\n",
       "      <th>17</th>\n",
       "      <td>38900</td>\n",
       "      <td>664583</td>\n",
       "      <td>Paanua</td>\n",
       "      <td>Kaaluai</td>\n",
       "      <td>M</td>\n",
       "      <td>1</td>\n",
       "      <td>Regional Representative</td>\n",
       "      <td>46978</td>\n",
       "      <td>4</td>\n",
       "      <td>1/1/2011</td>\n",
       "      <td>...</td>\n",
       "      <td>Non Profit</td>\n",
       "      <td>Teaching</td>\n",
       "      <td>Alumni</td>\n",
       "      <td>8000.0</td>\n",
       "      <td>4.662582e+06</td>\n",
       "      <td>1.285631e+09</td>\n",
       "      <td>4.616758e+08</td>\n",
       "      <td>1912179417</td>\n",
       "      <td>164872413</td>\n",
       "      <td>909</td>\n",
       "    </tr>\n",
       "  </tbody>\n",
       "</table>\n",
       "<p>5 rows × 25 columns</p>\n",
       "</div>"
      ],
      "text/plain": [
       "    HospitalID  Work_ID   LastName FirstName Gender  PositionID  \\\n",
       "2        43353   756481  Rodriguez      Jose      M           4   \n",
       "8        35512   625519      Brown  Marietta      F           1   \n",
       "11       22460   380668      Smith      Mary      F           4   \n",
       "15       31032   310431       Dong   HongWei      F           4   \n",
       "17       38900   664583     Paanua   Kaaluai      M           1   \n",
       "\n",
       "               PositionTitle  Compensation  MaxTerm StartDate  ...  \\\n",
       "2   Safety Inspection Member         23987        2  1/1/2011  ...   \n",
       "8    Regional Representative         46978        4  1/1/2009  ...   \n",
       "11  Safety Inspection Member         23987        2  1/1/2012  ...   \n",
       "15  Safety Inspection Member         23987        2  1/1/2012  ...   \n",
       "17   Regional Representative         46978        4  1/1/2011  ...   \n",
       "\n",
       "   TypeControl     Teaching DonorType FullTimeCount NetPatientRevenue  \\\n",
       "2   Non Profit  Small/Rural   Charity          55.0      1.417224e+04   \n",
       "8   Non Profit     Teaching    Alumni        3500.0      1.710382e+06   \n",
       "11  Non Profit     Teaching    Alumni        6392.0      4.333934e+06   \n",
       "15  Non Profit     Teaching    Alumni        5218.0      1.187022e+06   \n",
       "17  Non Profit     Teaching    Alumni        8000.0      4.662582e+06   \n",
       "\n",
       "   InpatientOperExp OutpatientOperExp Operating_Revenue  Operating_Income  \\\n",
       "2      1.436471e+06      3.989894e+06           5235317           -191048   \n",
       "8      4.149948e+08      2.079907e+08         643041802          20056379   \n",
       "11     9.289621e+08      6.621559e+08        1650391999          59273999   \n",
       "15     2.912481e+08      1.093286e+08         439084836          38508125   \n",
       "17     1.285631e+09      4.616758e+08        1912179417         164872413   \n",
       "\n",
       "    AvlBeds  \n",
       "2        12  \n",
       "8       606  \n",
       "11      445  \n",
       "15      462  \n",
       "17      909  \n",
       "\n",
       "[5 rows x 25 columns]"
      ]
     },
     "execution_count": 71,
     "metadata": {},
     "output_type": "execute_result"
    }
   ],
   "source": [
    "hospital_data_mine.head(5) # Check out first 5 rows of data to select two existing hospitals"
   ]
  },
  {
   "cell_type": "code",
   "execution_count": 95,
   "id": "c35f73a3-df3d-476f-b981-7155403d9790",
   "metadata": {},
   "outputs": [],
   "source": [
    "new_rows = pd.DataFrame({'HospitalID':[43353,38900],\n",
    "                         'Work_ID':[111111,111111],\n",
    "                         'LastName':['Skrutvold', 'Skrutvold'],\n",
    "                         'FirstName':['Aerionna', 'Aerionna'],\n",
    "                         'Gender':['F','F'],\n",
    "                         'PositionID':[1,1],\n",
    "                         'PositionTitle':['State Board Representative', 'State Board Representative'],\n",
    "                         'Compensation': [89473,89473],\n",
    "                         'MaxTerm':[3,3],\n",
    "                         'StartDate':['04/13/2025', '04/13/2025'],\n",
    "                         'TypeControl':['Non Profit', 'Non Profit'],\n",
    "                         'Teaching':['Teaching', 'Teaching'],\n",
    "                         'DonorType':['Charity', 'Alumni'],\n",
    "                         'FullTimeCount':[55.0,8000.0],\n",
    "                         'NetPatientRevenue':[1.417224e+04,4.662582e+06],\n",
    "                         'InpatientOperExp':[1.436471e+06,1.285631e+09],\n",
    "                         'OutpatientOperExp': [3.989894e+06\t, 4.616758e+08],\n",
    "                         'Operating_Revenue': [5235317,1912179417],\n",
    "                         'Operating_income': [-191048,164872413],\n",
    "                         'AvlBeds':[12, 909]},\n",
    "                         index = [19, 20]\n",
    "                                         )"
   ]
  },
  {
   "cell_type": "code",
   "execution_count": 96,
   "id": "acbcd4b1-1353-49c4-98e9-a71e713811b5",
   "metadata": {},
   "outputs": [],
   "source": [
    "new_merge = pd.concat([hospital_data_mine, new_rows], ignore_index=True) # Save the DataFrame as `new_merge`."
   ]
  },
  {
   "cell_type": "code",
   "execution_count": 97,
   "id": "9d96fe40-5a4d-4909-9196-cf9304598a98",
   "metadata": {},
   "outputs": [
    {
     "name": "stdout",
     "output_type": "stream",
     "text": [
      "18\n",
      "20\n"
     ]
    }
   ],
   "source": [
    "print(len(hospital_data_mine)) # Confirm new rows were added\n",
    "print(len(new_merge))"
   ]
  },
  {
   "cell_type": "markdown",
   "id": "dfbc68aa-ed4c-42f1-8e95-f667fc6fa96f",
   "metadata": {},
   "source": [
    "### Filtering Data"
   ]
  },
  {
   "cell_type": "code",
   "execution_count": 98,
   "id": "52172eee-6430-4398-ba68-4a91b2b06e69",
   "metadata": {},
   "outputs": [],
   "source": [
    "Large_nonprofits = new_merge[((new_merge.TypeControl == 'Non Profit') & (new_merge.FullTimeCount > 250)) | (new_merge.NetPatientRevenue < 109000)]\n",
    "# Select all hospitals that are non-profit with more than 250 employees, unless the net patient revenue is smaller than $109,000. "
   ]
  },
  {
   "cell_type": "code",
   "execution_count": 99,
   "id": "d3837437-8572-4d3b-b220-946d03049220",
   "metadata": {},
   "outputs": [
    {
     "name": "stdout",
     "output_type": "stream",
     "text": [
      "<class 'pandas.core.frame.DataFrame'>\n",
      "Index: 14 entries, 0 to 19\n",
      "Data columns (total 26 columns):\n",
      " #   Column             Non-Null Count  Dtype  \n",
      "---  ------             --------------  -----  \n",
      " 0   HospitalID         14 non-null     int64  \n",
      " 1   Work_ID            14 non-null     int64  \n",
      " 2   LastName           14 non-null     object \n",
      " 3   FirstName          14 non-null     object \n",
      " 4   Gender             14 non-null     object \n",
      " 5   PositionID         14 non-null     int64  \n",
      " 6   PositionTitle      14 non-null     object \n",
      " 7   Compensation       14 non-null     int64  \n",
      " 8   MaxTerm            14 non-null     int64  \n",
      " 9   StartDate          14 non-null     object \n",
      " 10  Phone              12 non-null     object \n",
      " 11  Email              12 non-null     object \n",
      " 12  Name               12 non-null     object \n",
      " 13  Zip                12 non-null     object \n",
      " 14  Website            12 non-null     object \n",
      " 15  TypeControl        14 non-null     object \n",
      " 16  Teaching           14 non-null     object \n",
      " 17  DonorType          14 non-null     object \n",
      " 18  FullTimeCount      14 non-null     float64\n",
      " 19  NetPatientRevenue  14 non-null     float64\n",
      " 20  InpatientOperExp   14 non-null     float64\n",
      " 21  OutpatientOperExp  14 non-null     float64\n",
      " 22  Operating_Revenue  14 non-null     int64  \n",
      " 23  Operating_Income   12 non-null     float64\n",
      " 24  AvlBeds            14 non-null     int64  \n",
      " 25  Operating_income   2 non-null      float64\n",
      "dtypes: float64(6), int64(7), object(13)\n",
      "memory usage: 3.0+ KB\n"
     ]
    }
   ],
   "source": [
    "Large_nonprofits.info()"
   ]
  },
  {
   "cell_type": "code",
   "execution_count": 100,
   "id": "851f00a1-8a3b-4b62-a604-984ad364bfdb",
   "metadata": {},
   "outputs": [],
   "source": [
    "Large_nonprofits2 = Large_nonprofits.drop(Large_nonprofits.columns[[1,2,3,4,5,6,7,8,9,10,11,12]], axis = 1) # Remove the columns containing employee information and save it as a new DataFrame."
   ]
  },
  {
   "cell_type": "code",
   "execution_count": 101,
   "id": "2feb1289-7f7d-4c8b-8e57-96b6b5dba975",
   "metadata": {},
   "outputs": [
    {
     "data": {
      "text/plain": [
       "Index(['HospitalID', 'Zip', 'Website', 'TypeControl', 'Teaching', 'DonorType',\n",
       "       'FullTimeCount', 'NetPatientRevenue', 'InpatientOperExp',\n",
       "       'OutpatientOperExp', 'Operating_Revenue', 'Operating_Income', 'AvlBeds',\n",
       "       'Operating_income'],\n",
       "      dtype='object')"
      ]
     },
     "execution_count": 101,
     "metadata": {},
     "output_type": "execute_result"
    }
   ],
   "source": [
    "Large_nonprofits2.columns"
   ]
  },
  {
   "cell_type": "code",
   "execution_count": 102,
   "id": "0d555371-a006-424d-af4d-f7b9f9e3ca60",
   "metadata": {},
   "outputs": [],
   "source": [
    "Regional_Reps = new_merge[(new_merge.PositionTitle == 'Regional Representatives') & (new_merge.Operating_Income > 100000)]\n",
    "# select all the *Regional Representatives* who work at a hospital with operating income greater than $100,000. Save this as a new DataFrame."
   ]
  },
  {
   "cell_type": "markdown",
   "id": "d2ad9600-7f6b-4eba-a92d-158e96f44959",
   "metadata": {},
   "source": [
    "### Convert Date-Time Data"
   ]
  },
  {
   "cell_type": "code",
   "execution_count": 103,
   "id": "6e964e8c-2563-4daa-8ca2-4ca8c01c8c30",
   "metadata": {},
   "outputs": [
    {
     "data": {
      "text/plain": [
       "HospitalID             int64\n",
       "Work_ID                int64\n",
       "LastName              object\n",
       "FirstName             object\n",
       "Gender                object\n",
       "PositionID             int64\n",
       "PositionTitle         object\n",
       "Compensation           int64\n",
       "MaxTerm                int64\n",
       "StartDate             object\n",
       "Phone                 object\n",
       "Email                 object\n",
       "Name                  object\n",
       "Zip                   object\n",
       "Website               object\n",
       "TypeControl           object\n",
       "Teaching              object\n",
       "DonorType             object\n",
       "FullTimeCount        float64\n",
       "NetPatientRevenue    float64\n",
       "InpatientOperExp     float64\n",
       "OutpatientOperExp    float64\n",
       "Operating_Revenue      int64\n",
       "Operating_Income     float64\n",
       "AvlBeds                int64\n",
       "Operating_income     float64\n",
       "dtype: object"
      ]
     },
     "execution_count": 103,
     "metadata": {},
     "output_type": "execute_result"
    }
   ],
   "source": [
    "new_merge.dtypes # check data types"
   ]
  },
  {
   "cell_type": "code",
   "execution_count": 105,
   "id": "9e506927-8cd5-49fb-9899-adeb69ce94e7",
   "metadata": {},
   "outputs": [],
   "source": [
    "new_merge['StartDate'] = pd.to_datetime(new_merge['StartDate']) # Converted State Data column to datetime datatype"
   ]
  },
  {
   "cell_type": "code",
   "execution_count": 106,
   "id": "4519ccbe-5e8c-411b-a8cf-2ed9b9324bf0",
   "metadata": {},
   "outputs": [
    {
     "data": {
      "text/plain": [
       "HospitalID                    int64\n",
       "Work_ID                       int64\n",
       "LastName                     object\n",
       "FirstName                    object\n",
       "Gender                       object\n",
       "PositionID                    int64\n",
       "PositionTitle                object\n",
       "Compensation                  int64\n",
       "MaxTerm                       int64\n",
       "StartDate            datetime64[ns]\n",
       "Phone                        object\n",
       "Email                        object\n",
       "Name                         object\n",
       "Zip                          object\n",
       "Website                      object\n",
       "TypeControl                  object\n",
       "Teaching                     object\n",
       "DonorType                    object\n",
       "FullTimeCount               float64\n",
       "NetPatientRevenue           float64\n",
       "InpatientOperExp            float64\n",
       "OutpatientOperExp           float64\n",
       "Operating_Revenue             int64\n",
       "Operating_Income            float64\n",
       "AvlBeds                       int64\n",
       "Operating_income            float64\n",
       "dtype: object"
      ]
     },
     "execution_count": 106,
     "metadata": {},
     "output_type": "execute_result"
    }
   ],
   "source": [
    "new_merge.dtypes # Confirm your changes by outputting the data types for all columns."
   ]
  },
  {
   "cell_type": "code",
   "execution_count": 107,
   "id": "a68b504f-a322-4af8-9f58-40bf77c32ee8",
   "metadata": {},
   "outputs": [
    {
     "data": {
      "text/plain": [
       "0   2011-01-01\n",
       "1   2009-01-01\n",
       "2   2012-01-01\n",
       "3   2012-01-01\n",
       "4   2011-01-01\n",
       "Name: StartDate, dtype: datetime64[ns]"
      ]
     },
     "execution_count": 107,
     "metadata": {},
     "output_type": "execute_result"
    }
   ],
   "source": [
    "new_merge['StartDate'].head(5) # output the first 5 records of the column(s) you converted."
   ]
  },
  {
   "cell_type": "markdown",
   "id": "bf15dc2c-b3ee-4703-af0d-304a93b3214d",
   "metadata": {},
   "source": [
    "### References"
   ]
  },
  {
   "cell_type": "markdown",
   "id": "3b98d857-059a-45cf-aad8-876d40c99dc4",
   "metadata": {},
   "source": [
    "#### ChatGPT \n",
    "https://chatgpt.com/share/67fc3857-b2d8-8012-889a-fa5aac2331c8    \n",
    ">>> In this independent assignment, I used ChatGPT to confirm functions not explicity shown in the tuturial, and to help me interpret warnings and errors I receieved in my Python code while working through it. "
   ]
  },
  {
   "cell_type": "code",
   "execution_count": null,
   "id": "2aa5d3ca-bcd0-4e73-9c6c-73b20f9706a8",
   "metadata": {},
   "outputs": [],
   "source": []
  }
 ],
 "metadata": {
  "kernelspec": {
   "display_name": "Python 3 (ipykernel)",
   "language": "python",
   "name": "python3"
  },
  "language_info": {
   "codemirror_mode": {
    "name": "ipython",
    "version": 3
   },
   "file_extension": ".py",
   "mimetype": "text/x-python",
   "name": "python",
   "nbconvert_exporter": "python",
   "pygments_lexer": "ipython3",
   "version": "3.12.7"
  }
 },
 "nbformat": 4,
 "nbformat_minor": 5
}
